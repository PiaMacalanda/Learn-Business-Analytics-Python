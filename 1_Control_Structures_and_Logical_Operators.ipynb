{
  "nbformat": 4,
  "nbformat_minor": 0,
  "metadata": {
    "colab": {
      "provenance": [],
      "authorship_tag": "ABX9TyNLm/lbjXmH6CJl6Hz8agvG",
      "include_colab_link": true
    },
    "kernelspec": {
      "name": "python3",
      "display_name": "Python 3"
    },
    "language_info": {
      "name": "python"
    }
  },
  "cells": [
    {
      "cell_type": "markdown",
      "metadata": {
        "id": "view-in-github",
        "colab_type": "text"
      },
      "source": [
        "<a href=\"https://colab.research.google.com/github/PiaMacalanda/Learn-Business-Analytics-Python/blob/main/1_Control_Structures_and_Logical_Operators.ipynb\" target=\"_parent\"><img src=\"https://colab.research.google.com/assets/colab-badge.svg\" alt=\"Open In Colab\"/></a>"
      ]
    },
    {
      "cell_type": "markdown",
      "source": [
        "# Logical Operators\n",
        "<image src = \"https://th.bing.com/th/id/OIP.dM__6eBiF7g9_RGU70_TcwHaCo?rs=1&pid=ImgDetMain\">\n",
        "\n",
        "1. logical and - &&\n",
        "2. logical or - ||\n",
        "3. logical not - !"
      ],
      "metadata": {
        "id": "WaixnuMpstNd"
      }
    },
    {
      "cell_type": "markdown",
      "source": [
        "# Control Structures Part 1\n",
        "\n",
        "<image src = \"https://i.imgflip.com/7nzqng.jpg\">"
      ],
      "metadata": {
        "id": "5f4IcLmBtcde"
      }
    },
    {
      "cell_type": "markdown",
      "source": [
        "# if-else statement"
      ],
      "metadata": {
        "id": "KQvqJruKtXhw"
      }
    },
    {
      "cell_type": "code",
      "source": [
        "# Test the equality operator\n",
        "\n",
        "number1 = 7\n",
        "number2 = 8\n",
        "\n",
        "if number1 < number2 :\n",
        "  print(f\"{number1} is less that {number2}\")\n",
        "else:\n",
        "  print(f\"{number1} is greater than {number2}\")"
      ],
      "metadata": {
        "colab": {
          "base_uri": "https://localhost:8080/"
        },
        "id": "Zj3YTpBWtbhu",
        "outputId": "18a2e650-1759-4a1c-beaf-18632a11d490"
      },
      "execution_count": null,
      "outputs": [
        {
          "output_type": "stream",
          "name": "stdout",
          "text": [
            "7 is less that 8\n"
          ]
        }
      ]
    },
    {
      "cell_type": "markdown",
      "source": [
        "## if-elif-else"
      ],
      "metadata": {
        "id": "n_4UE3IauM-m"
      }
    },
    {
      "cell_type": "code",
      "source": [
        "number1 +=5 # add 5 t 7\n",
        "number2 +=4 # deduct 3 from 8\n",
        "\n",
        "if number1 < number2 :\n",
        "  print(f\"{number1} is less that {number2}\")\n",
        "elif number1 > number2:\n",
        "  print(f\"{number1} is greater than {number2}\")\n",
        "else:\n",
        "  print(f\"{number1} is equal {number2}\")"
      ],
      "metadata": {
        "colab": {
          "base_uri": "https://localhost:8080/"
        },
        "id": "jmw_8EPjuSSe",
        "outputId": "d89038e9-c24b-4f3a-95cd-a72c0f2cf3e5"
      },
      "execution_count": null,
      "outputs": [
        {
          "output_type": "stream",
          "name": "stdout",
          "text": [
            "12 is equal 12\n"
          ]
        }
      ]
    },
    {
      "cell_type": "code",
      "source": [
        "# Create a program that will input year level and notify disticntion of year.\n",
        "# Display \"freshmen\" for number code 1; \"sophomore\" for code 2; \"junior\" for 3; \"senior\" for 4\n",
        "\n",
        "yearLevel = int(input(\"Enter year level [1-4]: \"))\n",
        "\n",
        "if yearLevel == 1:\n",
        "  print(f\"You are {yearLevel} level\")\n",
        "  print(f\"Category as freshmen\")\n",
        "elif yearLevel == 2:\n",
        "  print(f\"You are {yearLevel} level\")\n",
        "  print(f\"Category as sophomoren\")\n",
        "elif yearLevel == 3:\n",
        "  print(f\"You are {yearLevel} level\")\n",
        "  print(f\"Category as junior\")\n",
        "elif yearLevel == 4:\n",
        "  print(f\"You are {yearLevel} level\")\n",
        "  print(f\"Category as senior\")\n",
        "else:\n",
        "  print(f\"{yearLevel} is an invalid code\")"
      ],
      "metadata": {
        "colab": {
          "base_uri": "https://localhost:8080/"
        },
        "id": "WfpRwFY2u07D",
        "outputId": "6a8afb0c-72a6-4533-ffc1-2feae8237881"
      },
      "execution_count": null,
      "outputs": [
        {
          "output_type": "stream",
          "name": "stdout",
          "text": [
            "Enter year level [1-4]: 3\n",
            "You are 3 level\n",
            "Category as junior\n"
          ]
        }
      ]
    },
    {
      "cell_type": "code",
      "source": [
        "# Write a python that determines the age group of a person. A person is considered a:\n",
        "# 'Child' if his age is between 0-17; 'Young Adult' age 18-30; 'Adult' 31-59\n",
        "# 'Senior Cetizen' 60-100. 'Invalid' ages are ngative numbers and more thatn 100\n",
        "\n",
        "age = int(input(\"Enter age: \"))\n",
        "message = \"Invalid age\"\n",
        "\n",
        "if age > 0 and age <= 17:\n",
        "    message = f\"{age} is a Child age\"\n",
        "elif age >= 18 and age <= 30:\n",
        "    message = f\"{age} is a Young Adult age\"\n",
        "elif age >= 31 and age <= 59:\n",
        "    message = f\"{age} is an Adult age\"\n",
        "elif age >= 60 and age <= 100:\n",
        "    message = f\"{age} is a Senior Citizen age\"\n",
        "\n",
        "print(message)"
      ],
      "metadata": {
        "colab": {
          "base_uri": "https://localhost:8080/"
        },
        "id": "6o_uJzpOwJG_",
        "outputId": "cb5565f8-6296-4727-f3c7-7011b68c2b8b"
      },
      "execution_count": null,
      "outputs": [
        {
          "output_type": "stream",
          "name": "stdout",
          "text": [
            "Enter age: 9\n",
            "9 is a Child age\n"
          ]
        }
      ]
    },
    {
      "cell_type": "markdown",
      "source": [
        "# Control Structures Part 2\n",
        "\n",
        "<image src = \"https://www.memecreator.org/static/images/memes/4014047.jpg\">"
      ],
      "metadata": {
        "id": "YJcgQvwPzrD_"
      }
    },
    {
      "cell_type": "markdown",
      "source": [
        "## while loop\n"
      ],
      "metadata": {
        "id": "xAAl1RF40BPX"
      }
    },
    {
      "cell_type": "code",
      "source": [
        "# Generate number 1 to n. Print only the even numbers\n",
        "\n",
        "n = int(input(\"Enter n: \"))\n",
        "\n",
        "num = 1\n",
        "while num <= n:\n",
        "  if not (num  % 2) :\n",
        "    print(f\"{num}\")\n",
        "  num = num + 1"
      ],
      "metadata": {
        "colab": {
          "base_uri": "https://localhost:8080/"
        },
        "id": "oudUaECyz_iA",
        "outputId": "6c0563a2-5722-438f-a653-c1c073d8c5ac"
      },
      "execution_count": null,
      "outputs": [
        {
          "output_type": "stream",
          "name": "stdout",
          "text": [
            "Enter n: 20\n",
            "2\n",
            "4\n",
            "6\n",
            "8\n",
            "10\n",
            "12\n",
            "14\n",
            "16\n",
            "18\n",
            "20\n"
          ]
        }
      ]
    },
    {
      "cell_type": "markdown",
      "source": [
        "## for loop"
      ],
      "metadata": {
        "id": "FlySx0701Lr5"
      }
    },
    {
      "cell_type": "code",
      "source": [
        "# Generate number 1 to n. Print only the odd numbers. Store numbers to a list. Use for loop\n",
        "\n",
        "n = int(input(\"Enter n: \"))\n",
        "\n",
        "list_num=[]\n",
        "\n",
        "for i in range(1, n+1):\n",
        "    if i%2!=0:\n",
        "      list_num.append(i)\n",
        "\n",
        "print(f\"List contain {list_num}\")"
      ],
      "metadata": {
        "colab": {
          "base_uri": "https://localhost:8080/"
        },
        "id": "FNyLl1KQ1vMQ",
        "outputId": "5187a6a6-7390-48bb-8a41-2f68483582e6"
      },
      "execution_count": null,
      "outputs": [
        {
          "output_type": "stream",
          "name": "stdout",
          "text": [
            "Enter n: 20\n",
            "List contain [1, 3, 5, 7, 9, 11, 13, 15, 17, 19]\n"
          ]
        }
      ]
    },
    {
      "cell_type": "code",
      "source": [],
      "metadata": {
        "id": "UYWD8Z9H37jp"
      },
      "execution_count": null,
      "outputs": []
    }
  ]
}